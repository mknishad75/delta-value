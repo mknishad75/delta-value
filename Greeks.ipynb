{
 "cells": [
  {
   "cell_type": "code",
   "execution_count": 119,
   "metadata": {},
   "outputs": [],
   "source": [
    "import pandas as pd\n",
    "import datetime as dt\n",
    "from py_vollib.black_scholes.implied_volatility import implied_volatility\n",
    "from py_vollib.black_scholes.greeks.analytical import delta, theta,gamma,vega\n",
    "from kiteapp import *\n",
    "import option as tt\n",
    "from nsepython import *\n",
    "from kiteconnect import KiteConnect\n",
    "# pip install py_vollib"
   ]
  },
  {
   "cell_type": "code",
   "execution_count": 120,
   "metadata": {},
   "outputs": [],
   "source": [
    "with open(\"enctoken.txt\") as f1:\n",
    "\tenctoken = f1.read()\n",
    "kite = KiteApp(\"Mahesh\", \"KU1044\", enctoken)"
   ]
  },
  {
   "cell_type": "code",
   "execution_count": 121,
   "metadata": {},
   "outputs": [
    {
     "ename": "TokenException",
     "evalue": "Incorrect `api_key` or `access_token`.",
     "output_type": "error",
     "traceback": [
      "\u001b[1;31m---------------------------------------------------------------------------\u001b[0m",
      "\u001b[1;31mTokenException\u001b[0m                            Traceback (most recent call last)",
      "Cell \u001b[1;32mIn[121], line 1\u001b[0m\n\u001b[1;32m----> 1\u001b[0m holding \u001b[38;5;241m=\u001b[39m \u001b[43mkite\u001b[49m\u001b[38;5;241;43m.\u001b[39;49m\u001b[43mholdings\u001b[49m\u001b[43m(\u001b[49m\u001b[43m)\u001b[49m\n\u001b[0;32m      2\u001b[0m positionm \u001b[38;5;241m=\u001b[39m kite\u001b[38;5;241m.\u001b[39mpositions()\n\u001b[0;32m      3\u001b[0m ins \u001b[38;5;241m=\u001b[39m kite\u001b[38;5;241m.\u001b[39mprofile()\n",
      "File \u001b[1;32mc:\\Users\\mahesh\\AppData\\Local\\Programs\\Python\\Python312\\Lib\\site-packages\\kiteconnect\\connect.py:449\u001b[0m, in \u001b[0;36mKiteConnect.holdings\u001b[1;34m(self)\u001b[0m\n\u001b[0;32m    447\u001b[0m \u001b[38;5;28;01mdef\u001b[39;00m \u001b[38;5;21mholdings\u001b[39m(\u001b[38;5;28mself\u001b[39m):\n\u001b[0;32m    448\u001b[0m \u001b[38;5;250m    \u001b[39m\u001b[38;5;124;03m\"\"\"Retrieve the list of equity holdings.\"\"\"\u001b[39;00m\n\u001b[1;32m--> 449\u001b[0m     \u001b[38;5;28;01mreturn\u001b[39;00m \u001b[38;5;28;43mself\u001b[39;49m\u001b[38;5;241;43m.\u001b[39;49m\u001b[43m_get\u001b[49m\u001b[43m(\u001b[49m\u001b[38;5;124;43m\"\u001b[39;49m\u001b[38;5;124;43mportfolio.holdings\u001b[39;49m\u001b[38;5;124;43m\"\u001b[39;49m\u001b[43m)\u001b[49m\n",
      "File \u001b[1;32mc:\\Users\\mahesh\\AppData\\Local\\Programs\\Python\\Python312\\Lib\\site-packages\\kiteconnect\\connect.py:861\u001b[0m, in \u001b[0;36mKiteConnect._get\u001b[1;34m(self, route, url_args, params, is_json)\u001b[0m\n\u001b[0;32m    859\u001b[0m \u001b[38;5;28;01mdef\u001b[39;00m \u001b[38;5;21m_get\u001b[39m(\u001b[38;5;28mself\u001b[39m, route, url_args\u001b[38;5;241m=\u001b[39m\u001b[38;5;28;01mNone\u001b[39;00m, params\u001b[38;5;241m=\u001b[39m\u001b[38;5;28;01mNone\u001b[39;00m, is_json\u001b[38;5;241m=\u001b[39m\u001b[38;5;28;01mFalse\u001b[39;00m):\n\u001b[0;32m    860\u001b[0m \u001b[38;5;250m    \u001b[39m\u001b[38;5;124;03m\"\"\"Alias for sending a GET request.\"\"\"\u001b[39;00m\n\u001b[1;32m--> 861\u001b[0m     \u001b[38;5;28;01mreturn\u001b[39;00m \u001b[38;5;28;43mself\u001b[39;49m\u001b[38;5;241;43m.\u001b[39;49m\u001b[43m_request\u001b[49m\u001b[43m(\u001b[49m\u001b[43mroute\u001b[49m\u001b[43m,\u001b[49m\u001b[43m \u001b[49m\u001b[38;5;124;43m\"\u001b[39;49m\u001b[38;5;124;43mGET\u001b[39;49m\u001b[38;5;124;43m\"\u001b[39;49m\u001b[43m,\u001b[49m\u001b[43m \u001b[49m\u001b[43murl_args\u001b[49m\u001b[38;5;241;43m=\u001b[39;49m\u001b[43murl_args\u001b[49m\u001b[43m,\u001b[49m\u001b[43m \u001b[49m\u001b[43mparams\u001b[49m\u001b[38;5;241;43m=\u001b[39;49m\u001b[43mparams\u001b[49m\u001b[43m,\u001b[49m\u001b[43m \u001b[49m\u001b[43mis_json\u001b[49m\u001b[38;5;241;43m=\u001b[39;49m\u001b[43mis_json\u001b[49m\u001b[43m)\u001b[49m\n",
      "File \u001b[1;32mc:\\Users\\mahesh\\Downloads\\KiteAppUpdate\\kiteapp.py:74\u001b[0m, in \u001b[0;36mKiteApp._request\u001b[1;34m(self, route, method, url_args, query_params, params, is_json)\u001b[0m\n\u001b[0;32m     72\u001b[0m         \u001b[38;5;66;03m# native Kite errors\u001b[39;00m\n\u001b[0;32m     73\u001b[0m         exp \u001b[38;5;241m=\u001b[39m \u001b[38;5;28mgetattr\u001b[39m(ex, data[\u001b[38;5;124m\"\u001b[39m\u001b[38;5;124merror_type\u001b[39m\u001b[38;5;124m\"\u001b[39m], ex\u001b[38;5;241m.\u001b[39mGeneralException)\n\u001b[1;32m---> 74\u001b[0m         \u001b[38;5;28;01mraise\u001b[39;00m exp(data[\u001b[38;5;124m\"\u001b[39m\u001b[38;5;124mmessage\u001b[39m\u001b[38;5;124m\"\u001b[39m], code\u001b[38;5;241m=\u001b[39mr\u001b[38;5;241m.\u001b[39mstatus_code)\n\u001b[0;32m     76\u001b[0m     \u001b[38;5;28;01mreturn\u001b[39;00m data[\u001b[38;5;124m\"\u001b[39m\u001b[38;5;124mdata\u001b[39m\u001b[38;5;124m\"\u001b[39m]\n\u001b[0;32m     77\u001b[0m \u001b[38;5;28;01melif\u001b[39;00m \u001b[38;5;124m\"\u001b[39m\u001b[38;5;124mcsv\u001b[39m\u001b[38;5;124m\"\u001b[39m \u001b[38;5;129;01min\u001b[39;00m r\u001b[38;5;241m.\u001b[39mheaders[\u001b[38;5;124m\"\u001b[39m\u001b[38;5;124mcontent-type\u001b[39m\u001b[38;5;124m\"\u001b[39m]:\n",
      "\u001b[1;31mTokenException\u001b[0m: Incorrect `api_key` or `access_token`."
     ]
    }
   ],
   "source": [
    "holding = kite.holdings()\n",
    "positionm = kite.positions()\n",
    "ins = kite.profile()\n",
    "\n",
    "print(holding)"
   ]
  },
  {
   "cell_type": "code",
   "execution_count": 107,
   "metadata": {},
   "outputs": [
    {
     "ename": "InputException",
     "evalue": "Bad Request",
     "output_type": "error",
     "traceback": [
      "\u001b[1;31m---------------------------------------------------------------------------\u001b[0m",
      "\u001b[1;31mInputException\u001b[0m                            Traceback (most recent call last)",
      "Cell \u001b[1;32mIn[107], line 2\u001b[0m\n\u001b[0;32m      1\u001b[0m option_symbol \u001b[38;5;241m=\u001b[39m \u001b[38;5;124m\"\u001b[39m\u001b[38;5;124mNSE:NIFTY24SEP25000PE\u001b[39m\u001b[38;5;124m\"\u001b[39m\n\u001b[1;32m----> 2\u001b[0m option_data \u001b[38;5;241m=\u001b[39m \u001b[43mkite\u001b[49m\u001b[38;5;241;43m.\u001b[39;49m\u001b[43mquote\u001b[49m\u001b[43m(\u001b[49m\u001b[43moption_symbol\u001b[49m\u001b[43m)\u001b[49m\n\u001b[0;32m      4\u001b[0m \u001b[38;5;28;01mif\u001b[39;00m \u001b[38;5;124m'\u001b[39m\u001b[38;5;124mgreeks\u001b[39m\u001b[38;5;124m'\u001b[39m \u001b[38;5;129;01min\u001b[39;00m option_data:\n\u001b[0;32m      5\u001b[0m     delta \u001b[38;5;241m=\u001b[39m option_data[\u001b[38;5;124m'\u001b[39m\u001b[38;5;124mgreeks\u001b[39m\u001b[38;5;124m'\u001b[39m][\u001b[38;5;124m'\u001b[39m\u001b[38;5;124mdelta\u001b[39m\u001b[38;5;124m'\u001b[39m]\n",
      "File \u001b[1;32mc:\\Users\\mahesh\\AppData\\Local\\Programs\\Python\\Python312\\Lib\\site-packages\\kiteconnect\\connect.py:582\u001b[0m, in \u001b[0;36mKiteConnect.quote\u001b[1;34m(self, *instruments)\u001b[0m\n\u001b[0;32m    579\u001b[0m \u001b[38;5;28;01mif\u001b[39;00m \u001b[38;5;28mlen\u001b[39m(instruments) \u001b[38;5;241m>\u001b[39m \u001b[38;5;241m0\u001b[39m \u001b[38;5;129;01mand\u001b[39;00m \u001b[38;5;28mtype\u001b[39m(instruments[\u001b[38;5;241m0\u001b[39m]) \u001b[38;5;241m==\u001b[39m \u001b[38;5;28mlist\u001b[39m:\n\u001b[0;32m    580\u001b[0m     ins \u001b[38;5;241m=\u001b[39m instruments[\u001b[38;5;241m0\u001b[39m]\n\u001b[1;32m--> 582\u001b[0m data \u001b[38;5;241m=\u001b[39m \u001b[38;5;28;43mself\u001b[39;49m\u001b[38;5;241;43m.\u001b[39;49m\u001b[43m_get\u001b[49m\u001b[43m(\u001b[49m\u001b[38;5;124;43m\"\u001b[39;49m\u001b[38;5;124;43mmarket.quote\u001b[39;49m\u001b[38;5;124;43m\"\u001b[39;49m\u001b[43m,\u001b[49m\u001b[43m \u001b[49m\u001b[43mparams\u001b[49m\u001b[38;5;241;43m=\u001b[39;49m\u001b[43m{\u001b[49m\u001b[38;5;124;43m\"\u001b[39;49m\u001b[38;5;124;43mi\u001b[39;49m\u001b[38;5;124;43m\"\u001b[39;49m\u001b[43m:\u001b[49m\u001b[43m \u001b[49m\u001b[43mins\u001b[49m\u001b[43m}\u001b[49m\u001b[43m)\u001b[49m\n\u001b[0;32m    583\u001b[0m \u001b[38;5;28;01mreturn\u001b[39;00m {key: \u001b[38;5;28mself\u001b[39m\u001b[38;5;241m.\u001b[39m_format_response(data[key]) \u001b[38;5;28;01mfor\u001b[39;00m key \u001b[38;5;129;01min\u001b[39;00m data}\n",
      "File \u001b[1;32mc:\\Users\\mahesh\\AppData\\Local\\Programs\\Python\\Python312\\Lib\\site-packages\\kiteconnect\\connect.py:861\u001b[0m, in \u001b[0;36mKiteConnect._get\u001b[1;34m(self, route, url_args, params, is_json)\u001b[0m\n\u001b[0;32m    859\u001b[0m \u001b[38;5;28;01mdef\u001b[39;00m \u001b[38;5;21m_get\u001b[39m(\u001b[38;5;28mself\u001b[39m, route, url_args\u001b[38;5;241m=\u001b[39m\u001b[38;5;28;01mNone\u001b[39;00m, params\u001b[38;5;241m=\u001b[39m\u001b[38;5;28;01mNone\u001b[39;00m, is_json\u001b[38;5;241m=\u001b[39m\u001b[38;5;28;01mFalse\u001b[39;00m):\n\u001b[0;32m    860\u001b[0m \u001b[38;5;250m    \u001b[39m\u001b[38;5;124;03m\"\"\"Alias for sending a GET request.\"\"\"\u001b[39;00m\n\u001b[1;32m--> 861\u001b[0m     \u001b[38;5;28;01mreturn\u001b[39;00m \u001b[38;5;28;43mself\u001b[39;49m\u001b[38;5;241;43m.\u001b[39;49m\u001b[43m_request\u001b[49m\u001b[43m(\u001b[49m\u001b[43mroute\u001b[49m\u001b[43m,\u001b[49m\u001b[43m \u001b[49m\u001b[38;5;124;43m\"\u001b[39;49m\u001b[38;5;124;43mGET\u001b[39;49m\u001b[38;5;124;43m\"\u001b[39;49m\u001b[43m,\u001b[49m\u001b[43m \u001b[49m\u001b[43murl_args\u001b[49m\u001b[38;5;241;43m=\u001b[39;49m\u001b[43murl_args\u001b[49m\u001b[43m,\u001b[49m\u001b[43m \u001b[49m\u001b[43mparams\u001b[49m\u001b[38;5;241;43m=\u001b[39;49m\u001b[43mparams\u001b[49m\u001b[43m,\u001b[49m\u001b[43m \u001b[49m\u001b[43mis_json\u001b[49m\u001b[38;5;241;43m=\u001b[39;49m\u001b[43mis_json\u001b[49m\u001b[43m)\u001b[49m\n",
      "File \u001b[1;32mc:\\Users\\mahesh\\Downloads\\KiteAppUpdate\\kiteapp.py:74\u001b[0m, in \u001b[0;36mKiteApp._request\u001b[1;34m(self, route, method, url_args, query_params, params, is_json)\u001b[0m\n\u001b[0;32m     72\u001b[0m         \u001b[38;5;66;03m# native Kite errors\u001b[39;00m\n\u001b[0;32m     73\u001b[0m         exp \u001b[38;5;241m=\u001b[39m \u001b[38;5;28mgetattr\u001b[39m(ex, data[\u001b[38;5;124m\"\u001b[39m\u001b[38;5;124merror_type\u001b[39m\u001b[38;5;124m\"\u001b[39m], ex\u001b[38;5;241m.\u001b[39mGeneralException)\n\u001b[1;32m---> 74\u001b[0m         \u001b[38;5;28;01mraise\u001b[39;00m exp(data[\u001b[38;5;124m\"\u001b[39m\u001b[38;5;124mmessage\u001b[39m\u001b[38;5;124m\"\u001b[39m], code\u001b[38;5;241m=\u001b[39mr\u001b[38;5;241m.\u001b[39mstatus_code)\n\u001b[0;32m     76\u001b[0m     \u001b[38;5;28;01mreturn\u001b[39;00m data[\u001b[38;5;124m\"\u001b[39m\u001b[38;5;124mdata\u001b[39m\u001b[38;5;124m\"\u001b[39m]\n\u001b[0;32m     77\u001b[0m \u001b[38;5;28;01melif\u001b[39;00m \u001b[38;5;124m\"\u001b[39m\u001b[38;5;124mcsv\u001b[39m\u001b[38;5;124m\"\u001b[39m \u001b[38;5;129;01min\u001b[39;00m r\u001b[38;5;241m.\u001b[39mheaders[\u001b[38;5;124m\"\u001b[39m\u001b[38;5;124mcontent-type\u001b[39m\u001b[38;5;124m\"\u001b[39m]:\n",
      "\u001b[1;31mInputException\u001b[0m: Bad Request"
     ]
    }
   ],
   "source": [
    "option_symbol = \"NSE:NIFTY24SEP25000PE\"\n",
    "option_data = kite.quote(option_symbol)\n",
    "\n",
    "if 'greeks' in option_data:\n",
    "    delta = option_data['greeks']['delta']\n",
    "    print(f\"Delta: {delta}\")\n",
    "else:\n",
    "    print(\"Delta data is not available for this option.\")"
   ]
  },
  {
   "cell_type": "code",
   "execution_count": 84,
   "metadata": {},
   "outputs": [
    {
     "name": "stdout",
     "output_type": "stream",
     "text": [
      "             RequestNumber Index Name INDEX_NAME HistoricalDate      OPEN  \\\n",
      "0  His63862567608162750100              Nifty 50    20 Sep 2024  25525.95   \n",
      "\n",
      "       HIGH      LOW     CLOSE  \n",
      "0  25849.25  25426.6  25790.95  \n"
     ]
    }
   ],
   "source": [
    "symbol = \"NIFTY 50\"\n",
    "start_date = \"20-Sep-2024\"\n",
    "end_date = \"26-Sep-2024\"\n",
    "print(index_history(symbol,start_date,end_date))"
   ]
  },
  {
   "cell_type": "code",
   "execution_count": 92,
   "metadata": {},
   "outputs": [
    {
     "ename": "AttributeError",
     "evalue": "module 'option' has no attribute 'calculate_delta'",
     "output_type": "error",
     "traceback": [
      "\u001b[1;31m---------------------------------------------------------------------------\u001b[0m",
      "\u001b[1;31mAttributeError\u001b[0m                            Traceback (most recent call last)",
      "Cell \u001b[1;32mIn[92], line 8\u001b[0m\n\u001b[0;32m      5\u001b[0m r \u001b[38;5;241m=\u001b[39m \u001b[38;5;241m0.1\u001b[39m  \u001b[38;5;66;03m# Risk-free rate (6%)\u001b[39;00m\n\u001b[0;32m      6\u001b[0m sigma \u001b[38;5;241m=\u001b[39m \u001b[38;5;241m0.18\u001b[39m  \u001b[38;5;66;03m# Implied volatility (18%)\u001b[39;00m\n\u001b[1;32m----> 8\u001b[0m delta \u001b[38;5;241m=\u001b[39m \u001b[43mtt\u001b[49m\u001b[38;5;241;43m.\u001b[39;49m\u001b[43mcalculate_delta\u001b[49m(S, K, T, r, sigma, option_type\u001b[38;5;241m=\u001b[39m\u001b[38;5;124m'\u001b[39m\u001b[38;5;124mcall\u001b[39m\u001b[38;5;124m'\u001b[39m)\n\u001b[0;32m      9\u001b[0m \u001b[38;5;28mprint\u001b[39m(\u001b[38;5;124m\"\u001b[39m\u001b[38;5;124mDelta:\u001b[39m\u001b[38;5;124m\"\u001b[39m, delta)\n",
      "\u001b[1;31mAttributeError\u001b[0m: module 'option' has no attribute 'calculate_delta'"
     ]
    }
   ],
   "source": [
    "# Example input\n",
    "S = 25790  # Nifty price\n",
    "K = 26000  # Strike price\n",
    "T = 0.25  # Time to expiration (in years)\n",
    "r = 0.1  # Risk-free rate (6%)\n",
    "sigma = 0.18  # Implied volatility (18%)\n",
    "\n",
    "delta = tt.calculate_delta(S, K, T, r, sigma, option_type='call')\n",
    "print(\"Delta:\", delta)\n"
   ]
  },
  {
   "cell_type": "code",
   "execution_count": 91,
   "metadata": {},
   "outputs": [
    {
     "name": "stdout",
     "output_type": "stream",
     "text": [
      "12.79\n",
      "call_theta : -18.290963795032685\n",
      "put_theta : -11.173528475384407\n",
      "call_premium : 48.57198552040336\n",
      "put_premium : 236.26090223661595\n",
      "call delta : 0.2677820145720181\n",
      "put delta : -0.7322179854279819\n",
      "gamma : 0.0011001573798408502\n",
      "vega : 7.692870649093497\n",
      "call_rho : 0.563653196975818\n",
      "put_rho : -1.571577398918665\n"
     ]
    }
   ],
   "source": [
    "\n",
    "\n",
    "value =indiavix()\n",
    "print(value)\n",
    "S0 = 25790.95\n",
    "X = 26000.00\n",
    "\n",
    "t = 3\n",
    "call_theta,put_theta,call_premium,put_premium,call_delta,put_delta,gamma,vega,call_rho,put_rho=tt.black_scholes_dexter(S0,X,t,value,r=10,q=0.0,td=365)\n",
    "print(\"call_theta :\",call_theta)\n",
    "print(\"put_theta :\",put_theta)\n",
    "print(\"call_premium :\",call_premium)\n",
    "print(\"put_premium :\",put_premium)\n",
    "print(\"call delta :\",call_delta)\n",
    "print(\"put delta :\",put_delta)\n",
    "print(\"gamma :\",gamma)\n",
    "print(\"vega :\",vega)\n",
    "print(\"call_rho :\",call_rho)\n",
    "print(\"put_rho :\",put_rho)"
   ]
  },
  {
   "cell_type": "code",
   "execution_count": 63,
   "metadata": {},
   "outputs": [
    {
     "name": "stdout",
     "output_type": "stream",
     "text": [
      "{'user_id': 'KU1044', 'user_type': 'individual/res_no_nn', 'email': 'mknishad21@gmail.com', 'user_name': 'Mahesh Kumar Nishad', 'user_shortname': 'Mahesh', 'broker': 'ZERODHA', 'exchanges': ['MF', 'BSE', 'BFO', 'NFO', 'NSE'], 'products': ['CNC', 'NRML', 'MIS', 'BO', 'CO'], 'order_types': ['MARKET', 'LIMIT', 'SL', 'SL-M'], 'avatar_url': None, 'meta': {'demat_consent': 'physical'}}\n"
     ]
    },
    {
     "ename": "GeneralException",
     "evalue": "Route not found",
     "output_type": "error",
     "traceback": [
      "\u001b[1;31m---------------------------------------------------------------------------\u001b[0m",
      "\u001b[1;31mGeneralException\u001b[0m                          Traceback (most recent call last)",
      "Cell \u001b[1;32mIn[63], line 7\u001b[0m\n\u001b[0;32m      3\u001b[0m ins \u001b[38;5;241m=\u001b[39m kite\u001b[38;5;241m.\u001b[39mprofile()\n\u001b[0;32m      5\u001b[0m \u001b[38;5;28mprint\u001b[39m(ins)\n\u001b[1;32m----> 7\u001b[0m inst \u001b[38;5;241m=\u001b[39m \u001b[43mkite\u001b[49m\u001b[38;5;241;43m.\u001b[39;49m\u001b[43minstruments\u001b[49m\u001b[43m(\u001b[49m\u001b[38;5;124;43m'\u001b[39;49m\u001b[38;5;124;43mNFO\u001b[39;49m\u001b[38;5;124;43m'\u001b[39;49m\u001b[43m)\u001b[49m\n\u001b[0;32m      8\u001b[0m df \u001b[38;5;241m=\u001b[39m pd\u001b[38;5;241m.\u001b[39mDataFrame(inst)\n\u001b[0;32m      9\u001b[0m \u001b[38;5;28mprint\u001b[39m(df)\n",
      "File \u001b[1;32mc:\\Users\\mahesh\\AppData\\Local\\Programs\\Python\\Python312\\Lib\\site-packages\\kiteconnect\\connect.py:566\u001b[0m, in \u001b[0;36mKiteConnect.instruments\u001b[1;34m(self, exchange)\u001b[0m\n\u001b[0;32m    557\u001b[0m \u001b[38;5;250m\u001b[39m\u001b[38;5;124;03m\"\"\"\u001b[39;00m\n\u001b[0;32m    558\u001b[0m \u001b[38;5;124;03mRetrieve the list of market instruments available to trade.\u001b[39;00m\n\u001b[0;32m    559\u001b[0m \n\u001b[1;32m   (...)\u001b[0m\n\u001b[0;32m    563\u001b[0m \u001b[38;5;124;03m- `exchange` is specific exchange to fetch (Optional)\u001b[39;00m\n\u001b[0;32m    564\u001b[0m \u001b[38;5;124;03m\"\"\"\u001b[39;00m\n\u001b[0;32m    565\u001b[0m \u001b[38;5;28;01mif\u001b[39;00m exchange:\n\u001b[1;32m--> 566\u001b[0m     \u001b[38;5;28;01mreturn\u001b[39;00m \u001b[38;5;28mself\u001b[39m\u001b[38;5;241m.\u001b[39m_parse_instruments(\u001b[38;5;28;43mself\u001b[39;49m\u001b[38;5;241;43m.\u001b[39;49m\u001b[43m_get\u001b[49m\u001b[43m(\u001b[49m\u001b[38;5;124;43m\"\u001b[39;49m\u001b[38;5;124;43mmarket.instruments\u001b[39;49m\u001b[38;5;124;43m\"\u001b[39;49m\u001b[43m,\u001b[49m\u001b[43m \u001b[49m\u001b[43murl_args\u001b[49m\u001b[38;5;241;43m=\u001b[39;49m\u001b[43m{\u001b[49m\u001b[38;5;124;43m\"\u001b[39;49m\u001b[38;5;124;43mexchange\u001b[39;49m\u001b[38;5;124;43m\"\u001b[39;49m\u001b[43m:\u001b[49m\u001b[43m \u001b[49m\u001b[43mexchange\u001b[49m\u001b[43m}\u001b[49m\u001b[43m)\u001b[49m)\n\u001b[0;32m    567\u001b[0m \u001b[38;5;28;01melse\u001b[39;00m:\n\u001b[0;32m    568\u001b[0m     \u001b[38;5;28;01mreturn\u001b[39;00m \u001b[38;5;28mself\u001b[39m\u001b[38;5;241m.\u001b[39m_parse_instruments(\u001b[38;5;28mself\u001b[39m\u001b[38;5;241m.\u001b[39m_get(\u001b[38;5;124m\"\u001b[39m\u001b[38;5;124mmarket.instruments.all\u001b[39m\u001b[38;5;124m\"\u001b[39m))\n",
      "File \u001b[1;32mc:\\Users\\mahesh\\AppData\\Local\\Programs\\Python\\Python312\\Lib\\site-packages\\kiteconnect\\connect.py:861\u001b[0m, in \u001b[0;36mKiteConnect._get\u001b[1;34m(self, route, url_args, params, is_json)\u001b[0m\n\u001b[0;32m    859\u001b[0m \u001b[38;5;28;01mdef\u001b[39;00m \u001b[38;5;21m_get\u001b[39m(\u001b[38;5;28mself\u001b[39m, route, url_args\u001b[38;5;241m=\u001b[39m\u001b[38;5;28;01mNone\u001b[39;00m, params\u001b[38;5;241m=\u001b[39m\u001b[38;5;28;01mNone\u001b[39;00m, is_json\u001b[38;5;241m=\u001b[39m\u001b[38;5;28;01mFalse\u001b[39;00m):\n\u001b[0;32m    860\u001b[0m \u001b[38;5;250m    \u001b[39m\u001b[38;5;124;03m\"\"\"Alias for sending a GET request.\"\"\"\u001b[39;00m\n\u001b[1;32m--> 861\u001b[0m     \u001b[38;5;28;01mreturn\u001b[39;00m \u001b[38;5;28;43mself\u001b[39;49m\u001b[38;5;241;43m.\u001b[39;49m\u001b[43m_request\u001b[49m\u001b[43m(\u001b[49m\u001b[43mroute\u001b[49m\u001b[43m,\u001b[49m\u001b[43m \u001b[49m\u001b[38;5;124;43m\"\u001b[39;49m\u001b[38;5;124;43mGET\u001b[39;49m\u001b[38;5;124;43m\"\u001b[39;49m\u001b[43m,\u001b[49m\u001b[43m \u001b[49m\u001b[43murl_args\u001b[49m\u001b[38;5;241;43m=\u001b[39;49m\u001b[43murl_args\u001b[49m\u001b[43m,\u001b[49m\u001b[43m \u001b[49m\u001b[43mparams\u001b[49m\u001b[38;5;241;43m=\u001b[39;49m\u001b[43mparams\u001b[49m\u001b[43m,\u001b[49m\u001b[43m \u001b[49m\u001b[43mis_json\u001b[49m\u001b[38;5;241;43m=\u001b[39;49m\u001b[43mis_json\u001b[49m\u001b[43m)\u001b[49m\n",
      "File \u001b[1;32mc:\\Users\\mahesh\\Downloads\\KiteAppUpdate\\kiteapp.py:74\u001b[0m, in \u001b[0;36mKiteApp._request\u001b[1;34m(self, route, method, url_args, query_params, params, is_json)\u001b[0m\n\u001b[0;32m     72\u001b[0m         \u001b[38;5;66;03m# native Kite errors\u001b[39;00m\n\u001b[0;32m     73\u001b[0m         exp \u001b[38;5;241m=\u001b[39m \u001b[38;5;28mgetattr\u001b[39m(ex, data[\u001b[38;5;124m\"\u001b[39m\u001b[38;5;124merror_type\u001b[39m\u001b[38;5;124m\"\u001b[39m], ex\u001b[38;5;241m.\u001b[39mGeneralException)\n\u001b[1;32m---> 74\u001b[0m         \u001b[38;5;28;01mraise\u001b[39;00m exp(data[\u001b[38;5;124m\"\u001b[39m\u001b[38;5;124mmessage\u001b[39m\u001b[38;5;124m\"\u001b[39m], code\u001b[38;5;241m=\u001b[39mr\u001b[38;5;241m.\u001b[39mstatus_code)\n\u001b[0;32m     76\u001b[0m     \u001b[38;5;28;01mreturn\u001b[39;00m data[\u001b[38;5;124m\"\u001b[39m\u001b[38;5;124mdata\u001b[39m\u001b[38;5;124m\"\u001b[39m]\n\u001b[0;32m     77\u001b[0m \u001b[38;5;28;01melif\u001b[39;00m \u001b[38;5;124m\"\u001b[39m\u001b[38;5;124mcsv\u001b[39m\u001b[38;5;124m\"\u001b[39m \u001b[38;5;129;01min\u001b[39;00m r\u001b[38;5;241m.\u001b[39mheaders[\u001b[38;5;124m\"\u001b[39m\u001b[38;5;124mcontent-type\u001b[39m\u001b[38;5;124m\"\u001b[39m]:\n",
      "\u001b[1;31mGeneralException\u001b[0m: Route not found"
     ]
    }
   ],
   "source": [
    "holding = kite.holdings()\n",
    "positionm = kite.positions()\n",
    "ins = kite.profile()\n",
    "\n",
    "print(ins)\n",
    "\n",
    "inst = kite.instruments('NFO')\n",
    "df = pd.DataFrame(inst)\n",
    "print(df)\n"
   ]
  },
  {
   "cell_type": "code",
   "execution_count": 59,
   "metadata": {},
   "outputs": [
    {
     "ename": "GeneralException",
     "evalue": "Route not found",
     "output_type": "error",
     "traceback": [
      "\u001b[1;31m---------------------------------------------------------------------------\u001b[0m",
      "\u001b[1;31mGeneralException\u001b[0m                          Traceback (most recent call last)",
      "Cell \u001b[1;32mIn[59], line 1\u001b[0m\n\u001b[1;32m----> 1\u001b[0m inst \u001b[38;5;241m=\u001b[39m \u001b[43mkite\u001b[49m\u001b[38;5;241;43m.\u001b[39;49m\u001b[43minstruments\u001b[49m\u001b[43m(\u001b[49m\u001b[38;5;124;43m'\u001b[39;49m\u001b[38;5;124;43mNFO\u001b[39;49m\u001b[38;5;124;43m'\u001b[39;49m\u001b[43m)\u001b[49m\n\u001b[0;32m      2\u001b[0m df \u001b[38;5;241m=\u001b[39m pd\u001b[38;5;241m.\u001b[39mDataFrame(inst)\n",
      "File \u001b[1;32mc:\\Users\\mahesh\\AppData\\Local\\Programs\\Python\\Python312\\Lib\\site-packages\\kiteconnect\\connect.py:566\u001b[0m, in \u001b[0;36mKiteConnect.instruments\u001b[1;34m(self, exchange)\u001b[0m\n\u001b[0;32m    557\u001b[0m \u001b[38;5;250m\u001b[39m\u001b[38;5;124;03m\"\"\"\u001b[39;00m\n\u001b[0;32m    558\u001b[0m \u001b[38;5;124;03mRetrieve the list of market instruments available to trade.\u001b[39;00m\n\u001b[0;32m    559\u001b[0m \n\u001b[1;32m   (...)\u001b[0m\n\u001b[0;32m    563\u001b[0m \u001b[38;5;124;03m- `exchange` is specific exchange to fetch (Optional)\u001b[39;00m\n\u001b[0;32m    564\u001b[0m \u001b[38;5;124;03m\"\"\"\u001b[39;00m\n\u001b[0;32m    565\u001b[0m \u001b[38;5;28;01mif\u001b[39;00m exchange:\n\u001b[1;32m--> 566\u001b[0m     \u001b[38;5;28;01mreturn\u001b[39;00m \u001b[38;5;28mself\u001b[39m\u001b[38;5;241m.\u001b[39m_parse_instruments(\u001b[38;5;28;43mself\u001b[39;49m\u001b[38;5;241;43m.\u001b[39;49m\u001b[43m_get\u001b[49m\u001b[43m(\u001b[49m\u001b[38;5;124;43m\"\u001b[39;49m\u001b[38;5;124;43mmarket.instruments\u001b[39;49m\u001b[38;5;124;43m\"\u001b[39;49m\u001b[43m,\u001b[49m\u001b[43m \u001b[49m\u001b[43murl_args\u001b[49m\u001b[38;5;241;43m=\u001b[39;49m\u001b[43m{\u001b[49m\u001b[38;5;124;43m\"\u001b[39;49m\u001b[38;5;124;43mexchange\u001b[39;49m\u001b[38;5;124;43m\"\u001b[39;49m\u001b[43m:\u001b[49m\u001b[43m \u001b[49m\u001b[43mexchange\u001b[49m\u001b[43m}\u001b[49m\u001b[43m)\u001b[49m)\n\u001b[0;32m    567\u001b[0m \u001b[38;5;28;01melse\u001b[39;00m:\n\u001b[0;32m    568\u001b[0m     \u001b[38;5;28;01mreturn\u001b[39;00m \u001b[38;5;28mself\u001b[39m\u001b[38;5;241m.\u001b[39m_parse_instruments(\u001b[38;5;28mself\u001b[39m\u001b[38;5;241m.\u001b[39m_get(\u001b[38;5;124m\"\u001b[39m\u001b[38;5;124mmarket.instruments.all\u001b[39m\u001b[38;5;124m\"\u001b[39m))\n",
      "File \u001b[1;32mc:\\Users\\mahesh\\AppData\\Local\\Programs\\Python\\Python312\\Lib\\site-packages\\kiteconnect\\connect.py:861\u001b[0m, in \u001b[0;36mKiteConnect._get\u001b[1;34m(self, route, url_args, params, is_json)\u001b[0m\n\u001b[0;32m    859\u001b[0m \u001b[38;5;28;01mdef\u001b[39;00m \u001b[38;5;21m_get\u001b[39m(\u001b[38;5;28mself\u001b[39m, route, url_args\u001b[38;5;241m=\u001b[39m\u001b[38;5;28;01mNone\u001b[39;00m, params\u001b[38;5;241m=\u001b[39m\u001b[38;5;28;01mNone\u001b[39;00m, is_json\u001b[38;5;241m=\u001b[39m\u001b[38;5;28;01mFalse\u001b[39;00m):\n\u001b[0;32m    860\u001b[0m \u001b[38;5;250m    \u001b[39m\u001b[38;5;124;03m\"\"\"Alias for sending a GET request.\"\"\"\u001b[39;00m\n\u001b[1;32m--> 861\u001b[0m     \u001b[38;5;28;01mreturn\u001b[39;00m \u001b[38;5;28;43mself\u001b[39;49m\u001b[38;5;241;43m.\u001b[39;49m\u001b[43m_request\u001b[49m\u001b[43m(\u001b[49m\u001b[43mroute\u001b[49m\u001b[43m,\u001b[49m\u001b[43m \u001b[49m\u001b[38;5;124;43m\"\u001b[39;49m\u001b[38;5;124;43mGET\u001b[39;49m\u001b[38;5;124;43m\"\u001b[39;49m\u001b[43m,\u001b[49m\u001b[43m \u001b[49m\u001b[43murl_args\u001b[49m\u001b[38;5;241;43m=\u001b[39;49m\u001b[43murl_args\u001b[49m\u001b[43m,\u001b[49m\u001b[43m \u001b[49m\u001b[43mparams\u001b[49m\u001b[38;5;241;43m=\u001b[39;49m\u001b[43mparams\u001b[49m\u001b[43m,\u001b[49m\u001b[43m \u001b[49m\u001b[43mis_json\u001b[49m\u001b[38;5;241;43m=\u001b[39;49m\u001b[43mis_json\u001b[49m\u001b[43m)\u001b[49m\n",
      "File \u001b[1;32mc:\\Users\\mahesh\\Downloads\\KiteAppUpdate\\kiteapp.py:74\u001b[0m, in \u001b[0;36mKiteApp._request\u001b[1;34m(self, route, method, url_args, query_params, params, is_json)\u001b[0m\n\u001b[0;32m     72\u001b[0m         \u001b[38;5;66;03m# native Kite errors\u001b[39;00m\n\u001b[0;32m     73\u001b[0m         exp \u001b[38;5;241m=\u001b[39m \u001b[38;5;28mgetattr\u001b[39m(ex, data[\u001b[38;5;124m\"\u001b[39m\u001b[38;5;124merror_type\u001b[39m\u001b[38;5;124m\"\u001b[39m], ex\u001b[38;5;241m.\u001b[39mGeneralException)\n\u001b[1;32m---> 74\u001b[0m         \u001b[38;5;28;01mraise\u001b[39;00m exp(data[\u001b[38;5;124m\"\u001b[39m\u001b[38;5;124mmessage\u001b[39m\u001b[38;5;124m\"\u001b[39m], code\u001b[38;5;241m=\u001b[39mr\u001b[38;5;241m.\u001b[39mstatus_code)\n\u001b[0;32m     76\u001b[0m     \u001b[38;5;28;01mreturn\u001b[39;00m data[\u001b[38;5;124m\"\u001b[39m\u001b[38;5;124mdata\u001b[39m\u001b[38;5;124m\"\u001b[39m]\n\u001b[0;32m     77\u001b[0m \u001b[38;5;28;01melif\u001b[39;00m \u001b[38;5;124m\"\u001b[39m\u001b[38;5;124mcsv\u001b[39m\u001b[38;5;124m\"\u001b[39m \u001b[38;5;129;01min\u001b[39;00m r\u001b[38;5;241m.\u001b[39mheaders[\u001b[38;5;124m\"\u001b[39m\u001b[38;5;124mcontent-type\u001b[39m\u001b[38;5;124m\"\u001b[39m]:\n",
      "\u001b[1;31mGeneralException\u001b[0m: Route not found"
     ]
    }
   ],
   "source": [
    "inst = kite.instruments('NFO')\n",
    "df = pd.DataFrame(inst)"
   ]
  },
  {
   "cell_type": "code",
   "execution_count": 115,
   "metadata": {},
   "outputs": [],
   "source": [
    "def get_weekly_expiry(df, index):\n",
    "    df = df[df['name'] == index]\n",
    "    df = df[df['segment'] == 'NFO-OPT']\n",
    "    exp = df['expiry'].to_list()\n",
    "    td = dt.date.today()\n",
    "    zrdexp = min(exp, key=lambda x: (x - td))\n",
    "    df = df[df['expiry'] == zrdexp]\n",
    "    return df, zrdexp"
   ]
  },
  {
   "cell_type": "code",
   "execution_count": 116,
   "metadata": {},
   "outputs": [
    {
     "ename": "NameError",
     "evalue": "name 'df' is not defined",
     "output_type": "error",
     "traceback": [
      "\u001b[1;31m---------------------------------------------------------------------------\u001b[0m",
      "\u001b[1;31mNameError\u001b[0m                                 Traceback (most recent call last)",
      "Cell \u001b[1;32mIn[116], line 1\u001b[0m\n\u001b[1;32m----> 1\u001b[0m data, exp \u001b[38;5;241m=\u001b[39m get_weekly_expiry(\u001b[43mdf\u001b[49m,\u001b[38;5;124m'\u001b[39m\u001b[38;5;124mBANKNIFTY\u001b[39m\u001b[38;5;124m'\u001b[39m)\n",
      "\u001b[1;31mNameError\u001b[0m: name 'df' is not defined"
     ]
    }
   ],
   "source": [
    "data, exp = get_weekly_expiry(df,'BANKNIFTY')"
   ]
  },
  {
   "cell_type": "code",
   "execution_count": 9,
   "metadata": {},
   "outputs": [
    {
     "ename": "NameError",
     "evalue": "name 'exp' is not defined",
     "output_type": "error",
     "traceback": [
      "\u001b[1;31m---------------------------------------------------------------------------\u001b[0m",
      "\u001b[1;31mNameError\u001b[0m                                 Traceback (most recent call last)",
      "Cell \u001b[1;32mIn[9], line 5\u001b[0m\n\u001b[0;32m      1\u001b[0m \u001b[38;5;28;01mdef\u001b[39;00m \u001b[38;5;21mremain_days\u001b[39m(exp):\n\u001b[0;32m      2\u001b[0m     \u001b[38;5;28;01mreturn\u001b[39;00m (pd\u001b[38;5;241m.\u001b[39mto_datetime(pd\u001b[38;5;241m.\u001b[39mto_datetime(exp)\u001b[38;5;241m.\u001b[39mstrftime(\u001b[38;5;124m\"\u001b[39m\u001b[38;5;124m%\u001b[39m\u001b[38;5;124mY-\u001b[39m\u001b[38;5;124m%\u001b[39m\u001b[38;5;124mm-\u001b[39m\u001b[38;5;132;01m%d\u001b[39;00m\u001b[38;5;124m 15:30:00\u001b[39m\u001b[38;5;124m\"\u001b[39m)) \u001b[38;5;241m-\u001b[39m\n\u001b[0;32m      3\u001b[0m             dt\u001b[38;5;241m.\u001b[39mdatetime\u001b[38;5;241m.\u001b[39mnow())\u001b[38;5;241m/\u001b[39mdt\u001b[38;5;241m.\u001b[39mtimedelta(days\u001b[38;5;241m=\u001b[39m\u001b[38;5;241m1\u001b[39m)\u001b[38;5;241m/\u001b[39m\u001b[38;5;241m365\u001b[39m\n\u001b[1;32m----> 5\u001b[0m remain \u001b[38;5;241m=\u001b[39m remain_days(\u001b[43mexp\u001b[49m)\n",
      "\u001b[1;31mNameError\u001b[0m: name 'exp' is not defined"
     ]
    }
   ],
   "source": [
    "def remain_days(exp):\n",
    "    return (pd.to_datetime(pd.to_datetime(exp).strftime(\"%Y-%m-%d 15:30:00\")) -\n",
    "            dt.datetime.now())/dt.timedelta(days=1)/365\n",
    "\n",
    "remain = remain_days(exp)"
   ]
  },
  {
   "cell_type": "code",
   "execution_count": 12,
   "metadata": {},
   "outputs": [
    {
     "ename": "NameError",
     "evalue": "name 'remain' is not defined",
     "output_type": "error",
     "traceback": [
      "\u001b[1;31m---------------------------------------------------------------------------\u001b[0m",
      "\u001b[1;31mNameError\u001b[0m                                 Traceback (most recent call last)",
      "Cell \u001b[1;32mIn[12], line 4\u001b[0m\n\u001b[0;32m      2\u001b[0m F \u001b[38;5;241m=\u001b[39m \u001b[38;5;241m47421.10\u001b[39m  \u001b[38;5;66;03m# Future /Index\u001b[39;00m\n\u001b[0;32m      3\u001b[0m K \u001b[38;5;241m=\u001b[39m \u001b[38;5;241m47400\u001b[39m\n\u001b[1;32m----> 4\u001b[0m r \u001b[38;5;241m=\u001b[39m \u001b[43mremain\u001b[49m\n\u001b[0;32m      5\u001b[0m t \u001b[38;5;241m=\u001b[39m \u001b[38;5;241m0.1\u001b[39m\n\u001b[0;32m      6\u001b[0m flag \u001b[38;5;241m=\u001b[39m \u001b[38;5;124m'\u001b[39m\u001b[38;5;124mc\u001b[39m\u001b[38;5;124m'\u001b[39m\n",
      "\u001b[1;31mNameError\u001b[0m: name 'remain' is not defined"
     ]
    }
   ],
   "source": [
    "price = 349.85\n",
    "F = 47421.10  # Future /Index\n",
    "K = 47400\n",
    "r = remain\n",
    "t = 0.1\n",
    "flag = 'c'\n",
    "iv = round(implied_volatility(price, F, K, remain, 0.1, flag), 2)\n",
    "iv"
   ]
  },
  {
   "cell_type": "code",
   "execution_count": 11,
   "metadata": {},
   "outputs": [
    {
     "ename": "SyntaxError",
     "evalue": "invalid syntax (793612074.py, line 4)",
     "output_type": "error",
     "traceback": [
      "\u001b[1;36m  Cell \u001b[1;32mIn[11], line 4\u001b[1;36m\u001b[0m\n\u001b[1;33m    vg = round(vega('c', F, K, r, t, iv),2)`\u001b[0m\n\u001b[1;37m                                           ^\u001b[0m\n\u001b[1;31mSyntaxError\u001b[0m\u001b[1;31m:\u001b[0m invalid syntax\n"
     ]
    }
   ],
   "source": [
    "\n",
    "dlt =round(delta('c', F,K,r,t,iv),2)\n",
    "th = round(gamma('c', F, K, r, t, iv),2)\n",
    "gm = round(theta('c', F, K, r, t, iv),2)\n",
    "vg = round(vega('c', F, K, r, t, iv),2)`\n",
    "print(f\"Iv : {round(iv*100,2)}\")\n",
    "print(f\"Delta : {dlt}\")\n",
    "print(f\"Theta : {th}\")\n",
    "print(f\"Gamma : {gm}\")\n",
    "print(f\"Vega : {vg}\")"
   ]
  }
 ],
 "metadata": {
  "kernelspec": {
   "display_name": "Python 3",
   "language": "python",
   "name": "python3"
  },
  "language_info": {
   "codemirror_mode": {
    "name": "ipython",
    "version": 3
   },
   "file_extension": ".py",
   "mimetype": "text/x-python",
   "name": "python",
   "nbconvert_exporter": "python",
   "pygments_lexer": "ipython3",
   "version": "3.12.3"
  }
 },
 "nbformat": 4,
 "nbformat_minor": 2
}
